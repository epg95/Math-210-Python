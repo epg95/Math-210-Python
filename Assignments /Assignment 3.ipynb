{
 "cells": [
  {
   "cell_type": "code",
   "execution_count": null,
   "metadata": {
    "collapsed": true,
    "deletable": true,
    "editable": true
   },
   "outputs": [],
   "source": [
    "# Question 1\n",
    "\n",
    "def is_prime(N):\n",
    "    \"Determine whether or not N is a prime number.\"\n",
    "    if N <= 1:\n",
    "        return False\n",
    "    # N is prime if N is only divisible by 1 and itself\n",
    "    # We should test whether N is divisible by d for all 1 < d < N\n",
    "    for d in range(2,N):\n",
    "        # Check if N is divisible by d\n",
    "        if N % d == 0:\n",
    "            return False\n",
    "    # If we exit the for loop, then N is not divisible by any d\n",
    "    # Therefore N is prime\n",
    "    return True    "
   ]
  },
  {
   "cell_type": "code",
   "execution_count": null,
   "metadata": {
    "collapsed": false,
    "deletable": true,
    "editable": true
   },
   "outputs": [],
   "source": [
    "def prime_divisors(N):\n",
    "    \"\"\"Returns a Python list of prime numbers which divide N.\"\"\"\n",
    "    primes_list=[]\n",
    "    for p in range(2,int(N/2)+1):\n",
    "        if N % p == 0 and is_prime(p):\n",
    "            primes_list.append(p)\n",
    "    return primes_list\n"
   ]
  },
  {
   "cell_type": "code",
   "execution_count": null,
   "metadata": {
    "collapsed": true,
    "deletable": true,
    "editable": true
   },
   "outputs": [],
   "source": [
    "#Question 2\n",
    "\n",
    "def prime_factorization(N):\n",
    "    \"\"\"Returns a Python list of tuples which gives the factorization of N into primes.\"\"\"\n",
    "    primes_list = prime_divisors(N)\n",
    "    factors = []\n",
    "    for p in primes_list:\n",
    "        n=2\n",
    "        while N % p**n ==0:\n",
    "            n = n + 1\n",
    "        factors.append((p, n-1))\n",
    "    return factors"
   ]
  },
  {
   "cell_type": "code",
   "execution_count": null,
   "metadata": {
    "collapsed": true,
    "deletable": true,
    "editable": true
   },
   "outputs": [],
   "source": [
    "#Question 3\n",
    "\n",
    "def sequence_to_fraction(integer_list):\n",
    "    \"\"\"Returns the last number b_n in the sequence defined.\"\"\"\n",
    "    initial_term = (integer_list[0])\n",
    "    term_2 = (integer_list[1]) + (1/initial_term)\n",
    "    list_of_results = [initial_term,term_2]\n",
    "    answer = integer_list[0]\n",
    "    for n in range(1,len(integer_list)):\n",
    "        answer = (integer_list[n]) + (1/answer)\n",
    "        list_of_results.append(answer)\n",
    "    return (list_of_results[-1])\n",
    "        \n",
    "      "
   ]
  },
  {
   "cell_type": "code",
   "execution_count": null,
   "metadata": {
    "collapsed": true,
    "deletable": true,
    "editable": true
   },
   "outputs": [],
   "source": [
    "#question 4\n",
    "\n",
    "def product(list_of_numbers):\n",
    "    \"\"\"Returns the product of the numbers in the list.\"\"\"\n",
    "    result=1\n",
    "    for x in list_of_numbers:\n",
    "        result *= x\n",
    "    return result"
   ]
  },
  {
   "cell_type": "code",
   "execution_count": null,
   "metadata": {
    "collapsed": false,
    "deletable": true,
    "editable": true
   },
   "outputs": [],
   "source": [
    "#question 5\n",
    "\n",
    "def sequence_to_roots(integer_list):\n",
    "    \"\"\"Returns the number of the result of sequence of square roots defined in the question.\"\"\"\n",
    "    answer_1 = integer_list[0]\n",
    "   \n",
    "    n_answer = integer_list[0]\n",
    "    answer_list = []\n",
    "    \n",
    "    for n in integer_list:\n",
    "        n_answer = (n +(n_answer)**0.5)\n",
    "        answer_list.append(n_answer)\n",
    "        \n",
    "    return answer_list[-1]**0.5\n",
    "    "
   ]
  },
  {
   "cell_type": "code",
   "execution_count": null,
   "metadata": {
    "collapsed": false,
    "deletable": true,
    "editable": true
   },
   "outputs": [],
   "source": [
    "sequence_to_roots([4])"
   ]
  },
  {
   "cell_type": "code",
   "execution_count": null,
   "metadata": {
    "collapsed": true
   },
   "outputs": [],
   "source": [
    "def sequence_to_roots(sequence):\n",
    "    \"\"\"Given a finite sequence a_0, a_1, ..., a_N,\n",
    "    compute the last term b_N in the recursive sequence b_n = (a_n + b_{n-1})**(0.5).\"\"\"\n",
    "    result = 0\n",
    "    for a in sequence:\n",
    "        result = (a + result)**0.5\n",
    "    return result"
   ]
  },
  {
   "cell_type": "code",
   "execution_count": null,
   "metadata": {
    "collapsed": false
   },
   "outputs": [],
   "source": [
    "sequence_to_roots([4])"
   ]
  },
  {
   "cell_type": "code",
   "execution_count": null,
   "metadata": {
    "collapsed": true
   },
   "outputs": [],
   "source": []
  }
 ],
 "metadata": {
  "kernelspec": {
   "display_name": "Python 3",
   "language": "python",
   "name": "python3"
  },
  "language_info": {
   "codemirror_mode": {
    "name": "ipython",
    "version": 3
   },
   "file_extension": ".py",
   "mimetype": "text/x-python",
   "name": "python",
   "nbconvert_exporter": "python",
   "pygments_lexer": "ipython3",
   "version": "3.5.2"
  }
 },
 "nbformat": 4,
 "nbformat_minor": 1
}
