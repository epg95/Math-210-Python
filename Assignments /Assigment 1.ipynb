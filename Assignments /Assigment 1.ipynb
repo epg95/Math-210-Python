{
 "cells": [
  {
   "cell_type": "markdown",
   "metadata": {},
   "source": [
    "<h1 style=\"text-align: center; color: green; font-family: Arial\"> Assigment 1</h1>\n",
    "### Esteban Proano\n",
    "### 49186142"
   ]
  },
  {
   "cell_type": "markdown",
   "metadata": {},
   "source": [
    "###  <h1 style=\"text-align: left; color: green; font-family: Arial\"> Question 1</h1>\n",
    "My favourite city is **Quito**, *the capital of Ecuador*. It is also known as Middle of the World City. Quito stands at an altitude of 2,850 m. and has the best-preserved, least altered **historic centre** in Latin America. In the historic centre there are many old churches and monasteries  with rich interiors. Many walls and statues are fully covered with gold. There are many mountains and volcanos around the city. Moreover, *the centre of the Earth crosses the city and I was born in this amazing city.*\n",
    "\n",
    "[Quito picture](http://www.patrialatina.com.br/wp-content/uploads/2015/12/equadro.jpg)\n",
    "![Quito picture](http://www.patrialatina.com.br/wp-content/uploads/2015/12/equadro.jpg)\n",
    "\n",
    "Here is a list of places that makes Quito unique:\n",
    "1. [Volcano Chimborazo](https://es.wikipedia.org/wiki/Volcán_Chimborazo) \n",
    "2. [Historic centre](http://www.ecuadorexplorer.com/html/quito_centro_historico_old_town.htm)\n",
    "3. [The Church of the Society of Jesus](https://en.wikipedia.org/wiki/Compañ%C3%ADa_de_Jesús,_Quito)\n",
    "4. [Church of Santo Domingo](https://www.tripadvisor.com.br/Attraction_Review-g294308-d314192-Reviews-Santo_Domingo_Church_Iglesia_de_Santo_Domingo-Quito_Pichincha_Province.html)\n",
    "5. [Middle of the world](https://en.wikipedia.org/wiki/Ciudad_Mitad_del_Mundo)\n",
    "\n",
    "\n",
    "\n",
    "\n",
    "\n",
    "\n",
    "\n",
    "\n"
   ]
  },
  {
   "cell_type": "markdown",
   "metadata": {},
   "source": [
    "<h1 style=\"text-align: left; color: green; font-family: Arial\"> Question 2</h1>\n",
    "\n",
    "My favourite courses taught at UBC are:\n",
    "* First year:\n",
    "    1. [MATH 100 Differential Calculus with Applications to Physical Sciences and Engineering](https://courses.students.ubc.ca/cs/main?pname=subjarea&tname=subjareas&req=3&dept=MATH&course=100)\n",
    "    2. [MATH 101 Integral Calculus with Applications to Physical Sciences and Engineering](https://courses.students.ubc.ca/cs/main?pname=subjarea&tname=subjareas&req=3&dept=MATH&course=101) \n",
    "    3. [CPSC 110 Computation, Programs, and Programming](https://courses.students.ubc.ca/cs/main?pname=subjarea&tname=subjareas&req=3&dept=CPSC&course=110)\n",
    "    4. [CPSC 121 Models of Computation](https://courses.students.ubc.ca/cs/main?pname=subjarea&tname=subjareas&req=3&dept=CPSC&course=121)\n",
    "* Second year:\n",
    "    1. [MATH 220 Mathematical Proof](https://courses.students.ubc.ca/cs/main?pname=subjarea&tname=subjareas&req=3&dept=MATH&course=220)"
   ]
  },
  {
   "cell_type": "markdown",
   "metadata": {},
   "source": [
    " <h1 style=\"text-align: left; color: green; font-family: Arial\"> Question 3</h1>\n",
    "\n",
    "$$\\begin{bmatrix} 5 & 2 & 1 \\\\ 3& 7 & 5 \\\\ 2 & 0 & 4 \\end{bmatrix} \\begin{bmatrix} x_1 \\\\ x_2 \\\\ x_3 \\end{bmatrix} = \\begin{bmatrix} 0 \\\\ 1 \\\\ 3 \\end{bmatrix} $$"
   ]
  },
  {
   "cell_type": "markdown",
   "metadata": {},
   "source": [
    "\n",
    "<h1 style=\"text-align: left; color: green; font-family: Arial\"> Question 4</h1>\n",
    "\n",
    "$$\\oint_{\\partial\\Sigma} \\mathbf{E}\\cdot d\\boldsymbol\\ell = -\\dfrac{d}{dt} \\int \\hspace{-2mm} \\int_\\Sigma \\mathbf{B}\\cdot d\\mathbf{S}$$"
   ]
  },
  {
   "cell_type": "markdown",
   "metadata": {},
   "source": [
    " <h1 style=\"text-align: left; color: green; font-family: Arial\"> Question 5</h1>\n",
    " \n",
    "$$\\dfrac{\\partial V}{\\partial t}+\\dfrac{1}{2}\\sigma^2 S^2 \\dfrac{\\partial^2 V}{\\partial S^2}+rS\\dfrac{\\partial V}{\\partial S}-rV=0$$"
   ]
  },
  {
   "cell_type": "markdown",
   "metadata": {},
   "source": [
    "<h1 style=\"text-align: left; color: green; font-family: Arial\"> Question 6</h1>\n",
    " \n",
    "Normal approximation of the binomial distribution:\n",
    "\n",
    "Suppose that $S_n \\sim  Bin(n,p)$   with $n$ large and $p$ not too close to 0 or 1. Then:\n",
    "\n",
    "$$P\\left( a\\leq \\dfrac{S_n-np}{\\sqrt{np(1-p)}} \\leq b \\right)\\hspace{5mm} \\text {is close to} \\hspace{5mm}  \\Phi(b) - \\Phi(a)$$\n",
    "\n",
    "As a rule of thumb, the approximation is good if $np(1-p) > 10$. However, if $a$ and $b$ are very close, the approximation may be inaccurate.\n",
    "\n",
    "I find this application of the central limit theorem interesting because we can find out the probability that some event happens certain number of times.\n",
    "\n"
   ]
  },
  {
   "cell_type": "markdown",
   "metadata": {},
   "source": [
    "\n",
    "\n"
   ]
  },
  {
   "cell_type": "code",
   "execution_count": null,
   "metadata": {
    "collapsed": true
   },
   "outputs": [],
   "source": []
  }
 ],
 "metadata": {
  "kernelspec": {
   "display_name": "Python 3",
   "language": "python",
   "name": "python3"
  },
  "language_info": {
   "codemirror_mode": {
    "name": "ipython",
    "version": 3
   },
   "file_extension": ".py",
   "mimetype": "text/x-python",
   "name": "python",
   "nbconvert_exporter": "python",
   "pygments_lexer": "ipython3",
   "version": "3.5.2"
  }
 },
 "nbformat": 4,
 "nbformat_minor": 1
}
