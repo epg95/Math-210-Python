{
 "cells": [
  {
   "cell_type": "markdown",
   "metadata": {},
   "source": [
    "### Esteban Proano\n"
   ]
  },
  {
   "cell_type": "code",
   "execution_count": 119,
   "metadata": {
    "collapsed": false
   },
   "outputs": [],
   "source": [
    "# Qustion 1\n",
    "\n",
    "def linear (start, stop, by):\n",
    "    \"\"\"Returns the list of numbers beginning with start, incremented by the value by and up to stop.\"\"\"\n",
    "    sum_list=[]\n",
    "    if start >= stop:\n",
    "        print('Error: First argument must be less than the second argument.')\n",
    "        return None\n",
    "    else: \n",
    "        for n in range(0, 1+int((stop-start)/by)):\n",
    "            added_number = start\n",
    "            added_number = float(start + n*by)\n",
    "            sum_list.append(added_number)\n",
    "        return sum_list\n",
    "                       \n",
    "            "
   ]
  },
  {
   "cell_type": "code",
   "execution_count": 1,
   "metadata": {
    "collapsed": false
   },
   "outputs": [],
   "source": [
    "# Question 2\n",
    "\n",
    "def squares_between (min_list_value, max_list_value):\n",
    "    \"\"\"Returns the list of squares in the closed interval [a, b].\"\"\"\n",
    "    min_list_value = int(round(min_list_value,0))\n",
    "    max_list_value = int(round(max_list_value,0))\n",
    "    range_list=range(0,max_list_value+1)\n",
    "    answer=[]\n",
    "    if min_list_value < max_list_value:\n",
    "        for n in range(min_list_value, max_list_value+1):\n",
    "            possible_value_inserted = n**(0.5)\n",
    "            if range_list.count(possible_value_inserted)==1:\n",
    "                answer.append(n)\n",
    "        return answer   \n",
    "    else:\n",
    "        return answer\n",
    "    \n",
    "    \n",
    "    \n",
    "    "
   ]
  },
  {
   "cell_type": "code",
   "execution_count": null,
   "metadata": {
    "collapsed": true
   },
   "outputs": [],
   "source": []
  },
  {
   "cell_type": "code",
   "execution_count": 115,
   "metadata": {
    "collapsed": false
   },
   "outputs": [],
   "source": [
    "# Question 3\n",
    "\n",
    "def phi (a,N):\n",
    "    \"\"\"Computes and returns the phi sum.\"\"\"\n",
    "    Numbers_to_be_added=[]\n",
    "    if a > 1 and N >= 1:\n",
    "        for k in range(1,N+1):\n",
    "            phi_sum_number=1/((a*k)**3-(a*k))\n",
    "            Numbers_to_be_added.append(phi_sum_number)\n",
    "        sum_result=sum(Numbers_to_be_added)\n",
    "        result=1+2*sum_result\n",
    "        print(result)\n",
    "        return result    \n",
    "    else: \n",
    "        print('First argument must be greater than 1 and second argument must be greater than or equal to 1.')\n",
    "    return None"
   ]
  },
  {
   "cell_type": "code",
   "execution_count": 113,
   "metadata": {
    "collapsed": true
   },
   "outputs": [],
   "source": [
    "#Question 4\n",
    "def eig (a,b,c,d):\n",
    "    \"\"\"Returns the eigenvalues of the matrix as a list of length 2.\"\"\"\n",
    "    T=a+d \n",
    "    D=(a*d)-(b*c)\n",
    "\n",
    "    eig_1=(T+(((T**2)-4*D)**(0.5)))/2\n",
    "    eig_2=(T-(((T**2)-4*D)**(0.5)))/2\n",
    "    \n",
    "    if type(eig_1) and type(eig_2) == float:\n",
    "        eig_1=round(eig_1,6)\n",
    "        eig_2=round(eig_2,6)\n",
    "    elif type(eig_1) and type(eig_2) == complex:\n",
    "        real_1=round(eig_1.real,6)\n",
    "        real_2=round(eig_2.real,6)\n",
    "        imaginary_1=eig_1.imag\n",
    "        imaginary_2=eig_2.imag\n",
    "        eig_1=complex(real_1,imaginary_1)\n",
    "        eig_2=complex(real_2,imaginary_2)\n",
    "    return([eig_1,eig_2])"
   ]
  },
  {
   "cell_type": "code",
   "execution_count": 111,
   "metadata": {
    "collapsed": true
   },
   "outputs": [],
   "source": [
    "#Question 5\n",
    "def max_eig (a,b,c,d):\n",
    "    \"\"\"Returns the maximum eigenvalue of the symmetric matrix AA^T.\"\"\"\n",
    "    T=(a**2+b**2)+(c**2+d**2) \n",
    "    D=((a**2+b**2)*(c**2+d**2))-((a*c+b*d)*(a*c+b*d))\n",
    "\n",
    "    eig_1=(T+(((T**2)-4*D)**(0.5)))/2\n",
    "    eig_2=(T-(((T**2)-4*D)**(0.5)))/2\n",
    "    \n",
    "    return max([eig_1,eig_2])"
   ]
  },
  {
   "cell_type": "code",
   "execution_count": 109,
   "metadata": {
    "collapsed": false
   },
   "outputs": [],
   "source": [
    "#Question 6\n",
    "\n",
    "def longest_string (list_of_strings):\n",
    "    \"\"\"returns the length of the longest string\"\"\"\n",
    "    list_with_string_lenght=[] \n",
    "    for word in list_of_strings:\n",
    "        lenght=len(word)\n",
    "        list_with_string_lenght.append(lenght)\n",
    "    answer=max(list_with_string_lenght)\n",
    "    return print (answer)\n"
   ]
  }
 ],
 "metadata": {
  "kernelspec": {
   "display_name": "Python 3",
   "language": "python",
   "name": "python3"
  },
  "language_info": {
   "codemirror_mode": {
    "name": "ipython",
    "version": 3
   },
   "file_extension": ".py",
   "mimetype": "text/x-python",
   "name": "python",
   "nbconvert_exporter": "python",
   "pygments_lexer": "ipython3",
   "version": "3.5.2"
  }
 },
 "nbformat": 4,
 "nbformat_minor": 1
}
